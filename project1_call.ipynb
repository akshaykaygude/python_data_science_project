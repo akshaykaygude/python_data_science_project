{
 "cells": [
  {
   "cell_type": "code",
   "execution_count": 2,
   "id": "8fcdf238-8995-4ed5-ba9d-c7aa8db71798",
   "metadata": {},
   "outputs": [
    {
     "name": "stdout",
     "output_type": "stream",
     "text": [
      "Confusion Matrix:\n",
      " [[1440 1549]\n",
      " [   0 6986]]\n",
      "Accuracy: 0.8447117794486215\n"
     ]
    },
    {
     "name": "stderr",
     "output_type": "stream",
     "text": [
      "F:\\anaconda3\\Lib\\site-packages\\sklearn\\linear_model\\_logistic.py:469: ConvergenceWarning: lbfgs failed to converge (status=1):\n",
      "STOP: TOTAL NO. of ITERATIONS REACHED LIMIT.\n",
      "\n",
      "Increase the number of iterations (max_iter) or scale the data as shown in:\n",
      "    https://scikit-learn.org/stable/modules/preprocessing.html\n",
      "Please also refer to the documentation for alternative solver options:\n",
      "    https://scikit-learn.org/stable/modules/linear_model.html#logistic-regression\n",
      "  n_iter_i = _check_optimize_result(\n"
     ]
    }
   ],
   "source": [
    "from project1_functions import *\n",
    "\n",
    "\n",
    "df = load_data('F:\\\\project\\\\new_dataframe_39900.csv')\n",
    "\n",
    "df = clean_data(df)\n",
    "\n",
    "df = analyze_sentiment(df)\n",
    "\n",
    "df = encode_categorical(df)\n",
    "\n",
    "df = one_hot_encode(df)\n",
    "\n",
    "model = train_logistic_regression(df)"
   ]
  },
  {
   "cell_type": "code",
   "execution_count": null,
   "id": "cbae9810-adbc-4994-a686-4624fcf5ad61",
   "metadata": {},
   "outputs": [],
   "source": []
  },
  {
   "cell_type": "code",
   "execution_count": null,
   "id": "6fddcfc5-59e0-4b17-8679-c0b988dbef0b",
   "metadata": {},
   "outputs": [],
   "source": []
  }
 ],
 "metadata": {
  "kernelspec": {
   "display_name": "Python 3 (ipykernel)",
   "language": "python",
   "name": "python3"
  },
  "language_info": {
   "codemirror_mode": {
    "name": "ipython",
    "version": 3
   },
   "file_extension": ".py",
   "mimetype": "text/x-python",
   "name": "python",
   "nbconvert_exporter": "python",
   "pygments_lexer": "ipython3",
   "version": "3.12.4"
  }
 },
 "nbformat": 4,
 "nbformat_minor": 5
}
